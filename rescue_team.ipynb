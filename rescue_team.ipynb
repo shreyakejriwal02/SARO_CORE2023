{
 "cells": [
  {
   "cell_type": "code",
   "execution_count": 20,
   "metadata": {},
   "outputs": [],
   "source": [
    "class RescueTeam:\n",
    "    action_categories = {\n",
    "        \"surface rescue\": \"level 1 rescue\",\n",
    "        \"light debris clean up\": \"level 1 rescue\",\n",
    "        \"low intensity rescue\": \"level 2 rescue\",\n",
    "        \"block debris clean up\": \"level 2 rescue\",\n",
    "        \n",
    "        \"com. & nav. management\": \"supply operations\",\n",
    "        \"supplies distribution\": \"supply operations\",\n",
    "        \"patrolling and traffic control\": \"security operations\",\n",
    "        \"site management\": \"security operations\",\n",
    "        \"fire hazard\": \"fire fighting\",\n",
    "        \"low rise rope rescue\": \"fire fighting\",\n",
    "        \"first aid\": \"medical operations\",\n",
    "        \"emergency medical services\": \"medical operations\",\n",
    "\n",
    "\n",
    "        \"medium intensity str rescue\": \"level 3 rescue\",\n",
    "        \"medium debris clean up\": \"level 3 rescue\",\n",
    "        \"high intensity str rescue\": \"level 4 rescue\",\n",
    "        \"heavy debris clean up\": \"level 4 rescue\",\n",
    "        \"very high intensity str rescue\": \"level 5 rescue\",\n",
    "        \"hydraulic debris removal\": \"level 5 rescue\",\n",
    "        \"hazardous materials\": \"hazmat rescue\",\n",
    "        \"medium rise rope rescue\": \"level 3 rescue\",\n",
    "        \"high rise rope rescue\": \"level 4 rescue\"\n",
    "    }\n",
    "\n",
    "    def __init__(self, id, team_name, team_type, status):\n",
    "        self.id = id\n",
    "        self.team_name = team_name  # volunteer, firefighter, police, ambulance, light_usar, medium_usar, heavy_usar\n",
    "        self.team_type = team_type  # org_volunteer, local_agency, xyz_usar\n",
    "        self.members = []  # List of team members\n",
    "        self.overall_competency = 0  # set to 0 to initialize\n",
    "        self.status = status  # 0 = available, 1 = deployed, 2 = unavailable, 3 = on standby\n",
    "        self.action_categories = set()\n",
    "\n",
    "    # Method to add a member to the team\n",
    "    def add_member(self, member_id, competency, actions):\n",
    "        member = {\n",
    "            'id': member_id,\n",
    "            'competency': competency, # 1 = low, 2 = medium, 3 = high\n",
    "            'actions': actions,\n",
    "        }\n",
    "        self.members.append(member)\n",
    "        self.update_action_categories()\n",
    "\n",
    "    def update_action_categories(self):\n",
    "        self.action_categories = set()\n",
    "\n",
    "        for member in self.members:\n",
    "            for action in member['actions']:\n",
    "                if action in RescueTeam.action_categories:\n",
    "                    self.action_categories.add(RescueTeam.action_categories[action])\n",
    "    \n",
    "    def calculate_overall_competency(self):\n",
    "        if not self.members:\n",
    "            self.overall_competency = 0  # No members, set overall competency to 0\n",
    "            return\n",
    "\n",
    "        total_competency = sum(member['competency'] for member in self.members)\n",
    "        average_competency = total_competency / len(self.members)\n",
    "\n",
    "        # Calculate the cooperation factor\n",
    "        cooperation_factor = 0.1\n",
    "\n",
    "        overall_competency = (average_competency) + (average_competency * cooperation_factor)\n",
    "        self.overall_competency = round(overall_competency) \n"
   ]
  },
  {
   "cell_type": "code",
   "execution_count": 21,
   "metadata": {},
   "outputs": [],
   "source": [
    "# Create rescue teams \n",
    "Volunteer_team_1 = RescueTeam(1, \"Volunteer_1\", \"volunteer\", 0)\n",
    "Volunteer_team_2 = RescueTeam(2, \"Volunteer_2\", \"volunteer\", 0)\n",
    "Localteam_1 = RescueTeam(4, \"Local_1\", \"local\", 0)\n",
    "Firefight_team_1 = RescueTeam(3, \"Firefight_1\", \"firefight\", 0)\n",
    "Heavy_usar_1 = RescueTeam(5, \"Heavy_usar_1\", \"heavy_usar\", 2)\n",
    "Heavy_usar_2 = RescueTeam(6, \"Heavy_usar_2\", \"heavy_usar\", 0)\n",
    "Medium_usar_1 = RescueTeam(7, \"Medium_usar_1\", \"medium_usar\", 2)\n",
    "Light_usar_1 = RescueTeam(8, \"Light_usar_1\", \"light_usar\", 2)\n",
    "Light_usar_2 = RescueTeam(9, \"Light_usar_2\", \"light_usar\", 0)"
   ]
  },
  {
   "cell_type": "code",
   "execution_count": 24,
   "metadata": {},
   "outputs": [],
   "source": [
    "# Adding members to the team\n",
    "Volunteer_team_1.add_member(1, 1, [\"low intensity rescue\", \"surface rescue\"])\n",
    "Volunteer_team_1.add_member(2, 2, [\"low intensity rescue\", \"light debris clean up\"])\n",
    "\n",
    "Firefight_team_1.add_member(1, 2, [\"fire hazard\", \"low rise rope rescue\"])\n",
    "Firefight_team_1.add_member(2, 3, [\"fire hazard\", \"low rise rope rescue\"])\n",
    "Firefight_team_1.add_member(3, 2, [\"site management\", \"block debris clean up\"])\n",
    "\n",
    "Localteam_1.add_member(1, 1, [\"com. & nav. management\", \"supplies distribution\"])\n",
    "Localteam_1.add_member(2, 3, [\"first aid\", \"patrolling and traffic control\", \"emergency medical services\"])\n",
    "\n",
    "Heavy_usar_2.add_member(1, 4, [\"high rise rope rescue\"])\n",
    "Heavy_usar_2.add_member(2, 5, [\"hydraulic debris removal\"])\n",
    "Heavy_usar_2.add_member(3, 3, [\"heavy debris clean up\"])\n",
    "\n",
    "# Calculating overall competency\n",
    "Volunteer_team_1.calculate_overall_competency()\n",
    "Firefight_team_1.calculate_overall_competency()\n",
    "Localteam_1.calculate_overall_competency()\n",
    "Heavy_usar_2.calculate_overall_competency()"
   ]
  },
  {
   "cell_type": "code",
   "execution_count": 26,
   "metadata": {},
   "outputs": [
    {
     "name": "stdout",
     "output_type": "stream",
     "text": [
      "{'id': 1, 'team_name': 'Volunteer_1', 'team_type': 'volunteer', 'members': [{'id': 1, 'competency': 1, 'actions': ['low intensity rescue', 'surface rescue']}, {'id': 2, 'competency': 2, 'actions': ['low intensity rescue', 'light debris clean up']}, {'id': 1, 'competency': 1, 'actions': ['low intensity rescue', 'surface rescue']}, {'id': 2, 'competency': 2, 'actions': ['low intensity rescue', 'light debris clean up']}], 'overall_competency': 2, 'status': 0, 'action_categories': {'level 1 rescue', 'level 2 rescue'}}\n",
      "{'id': 3, 'team_name': 'Firefight_1', 'team_type': 'firefight', 'members': [{'id': 1, 'competency': 2, 'actions': ['fire hazard', 'low rise rope rescue']}, {'id': 2, 'competency': 3, 'actions': ['fire hazard', 'low rise rope rescue']}, {'id': 3, 'competency': 2, 'actions': ['site management', 'block debris clean up']}, {'id': 1, 'competency': 2, 'actions': ['fire hazard', 'low rise rope rescue']}, {'id': 2, 'competency': 3, 'actions': ['fire hazard', 'low rise rope rescue']}, {'id': 3, 'competency': 2, 'actions': ['site management', 'block debris clean up']}], 'overall_competency': 3, 'status': 0, 'action_categories': {'security operations', 'level 2 rescue', 'fire fighting'}}\n",
      "{'id': 4, 'team_name': 'Local_1', 'team_type': 'local', 'members': [{'id': 1, 'competency': 1, 'actions': ['com. & nav. management', 'supplies distribution']}, {'id': 2, 'competency': 3, 'actions': ['first aid', 'patrolling and traffic control', 'emergency medical services']}, {'id': 1, 'competency': 1, 'actions': ['com. & nav. management', 'supplies distribution']}, {'id': 2, 'competency': 3, 'actions': ['first aid', 'patrolling and traffic control', 'emergency medical services']}], 'overall_competency': 2, 'status': 0, 'action_categories': {'security operations', 'supply operations', 'medical operations'}}\n",
      "{'id': 6, 'team_name': 'Heavy_usar_2', 'team_type': 'heavy_usar', 'members': [{'id': 1, 'competency': 4, 'actions': ['high rise rope rescue']}, {'id': 2, 'competency': 5, 'actions': ['hydraulic debris removal']}, {'id': 3, 'competency': 3, 'actions': ['heavy debris clean up']}], 'overall_competency': 4, 'status': 0, 'action_categories': {'level 4 rescue'}}\n"
     ]
    }
   ],
   "source": [
    "# Print team profiles\n",
    "print(Volunteer_team_1.__dict__)\n",
    "print(Firefight_team_1.__dict__)\n",
    "print(Localteam_1.__dict__)\n",
    "print(Heavy_usar_2.__dict__)"
   ]
  }
 ],
 "metadata": {
  "kernelspec": {
   "display_name": "Python 3",
   "language": "python",
   "name": "python3"
  },
  "language_info": {
   "codemirror_mode": {
    "name": "ipython",
    "version": 3
   },
   "file_extension": ".py",
   "mimetype": "text/x-python",
   "name": "python",
   "nbconvert_exporter": "python",
   "pygments_lexer": "ipython3",
   "version": "3.10.11"
  }
 },
 "nbformat": 4,
 "nbformat_minor": 2
}
