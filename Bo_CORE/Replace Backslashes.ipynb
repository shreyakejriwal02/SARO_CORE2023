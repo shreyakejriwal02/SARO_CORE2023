{
 "cells": [
  {
   "cell_type": "code",
   "execution_count": 1,
   "metadata": {},
   "outputs": [
    {
     "name": "stdout",
     "output_type": "stream",
     "text": [
      "C:/Users/Bo_Laptop/Documents/GitHub/CORE2023_SAR/Bo_CORE/Database rescue resources.xlsx\n"
     ]
    }
   ],
   "source": [
    "original_path = r\"C:\\Users\\Bo_Laptop\\Documents\\GitHub\\CORE2023_SAR\\Bo_CORE\\Database rescue resources.xlsx\"\n",
    "converted_path = original_path.replace(\"\\\\\", \"/\")\n",
    "print(converted_path)\n"
   ]
  }
 ],
 "metadata": {
  "kernelspec": {
   "display_name": "base",
   "language": "python",
   "name": "python3"
  },
  "language_info": {
   "codemirror_mode": {
    "name": "ipython",
    "version": 3
   },
   "file_extension": ".py",
   "mimetype": "text/x-python",
   "name": "python",
   "nbconvert_exporter": "python",
   "pygments_lexer": "ipython3",
   "version": "3.9.13"
  }
 },
 "nbformat": 4,
 "nbformat_minor": 2
}
