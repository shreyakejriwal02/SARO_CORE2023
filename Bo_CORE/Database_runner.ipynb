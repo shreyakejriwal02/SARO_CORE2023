{
 "cells": [
  {
   "cell_type": "code",
   "execution_count": 2,
   "metadata": {},
   "outputs": [
    {
     "name": "stdout",
     "output_type": "stream",
     "text": [
      "0                                    Hard hats\n",
      "1                               Rescue Helmets\n",
      "2                      Chemical resistant hood\n",
      "3                                    Ear plugs\n",
      "4                                     Earmuffs\n",
      "5                     Durable / sturdy clothes\n",
      "6                             Standard overall\n",
      "7                            Knee / elbow pads\n",
      "8                            Wetsuit / drysuit\n",
      "9                      Chemical resistant suit\n",
      "10                              Nomex clothing\n",
      "11        High visibility, reflective clothing\n",
      "12                              Safety glasses\n",
      "13                      Fully enclosed goggles\n",
      "14                               Helmet visors\n",
      "15                                 Face shield\n",
      "16                  Standard respirator (N-95)\n",
      "17                               Half face APR\n",
      "18                               Full face APR\n",
      "19     Powered air-purifying respirator (PAPR)\n",
      "20         Safety shoes (steel toe and insole)\n",
      "21                    Chemical resistant boots\n",
      "22                                Rubber boots\n",
      "23                        Dielectric overshoes\n",
      "24           Cut/abrasive resistant work glove\n",
      "25                   Chemical resistant glove \n",
      "26                               Rubber gloves\n",
      "27                                  Flashlight\n",
      "28               Radio Communication Equipment\n",
      "29                                  GPS Device\n",
      "30                                  Power dril\n",
      "31                                     Whistle\n",
      "32                                      Hammer\n",
      "33                                Screw driver\n",
      "34                                       Knife\n",
      "35                                    Crow bar\n",
      "36                                 Bolt cutter\n",
      "37                                      Canine\n",
      "38                            Canine equipment\n",
      "39                               MULTI-APP box\n",
      "40    Ultra-Wide Band UWB radar scanner (SCAN)\n",
      "41           Wireless seismic sensors (SEARCH)\n",
      "42         Colour victim location camera (CAM)\n",
      "43                Thermal imaging camera (TIC)\n",
      "44            Atmospheric monitoring equipment\n",
      "45                               Electric Fans\n",
      "46                             Foldable shovel\n",
      "47                           Cribbing supplies\n",
      "48                   Bars / levering equipment\n",
      "49             Rigging specialist gear Level 1\n",
      "50             Rigging specialist gear Level 2\n",
      "51             Rigging specialist gear Level 3\n",
      "52                                         NaN\n",
      "53                                         NaN\n",
      "54                                         NaN\n",
      "55                                         NaN\n",
      "56                                         NaN\n",
      "Name: Equipment name, dtype: object\n"
     ]
    }
   ],
   "source": [
    "import pandas as pd\n",
    "\n",
    "excel_file_path = 'C:/Users/Bo_Laptop/Documents/GitHub/CORE2023_SAR/Bo_CORE/Database rescue resources.xlsx'\n",
    "df = pd.read_excel(excel_file_path, sheet_name='SAR Action basic resources')\n",
    "\n",
    "# print(df.head())\n",
    "# print(df.describe())\n",
    "column_data = df['Equipment name']\n",
    "print(column_data)\n"
   ]
  },
  {
   "cell_type": "code",
   "execution_count": null,
   "metadata": {},
   "outputs": [],
   "source": []
  }
 ],
 "metadata": {
  "kernelspec": {
   "display_name": ".venv",
   "language": "python",
   "name": "python3"
  },
  "language_info": {
   "codemirror_mode": {
    "name": "ipython",
    "version": 3
   },
   "file_extension": ".py",
   "mimetype": "text/x-python",
   "name": "python",
   "nbconvert_exporter": "python",
   "pygments_lexer": "ipython3",
   "version": "3.9.13"
  }
 },
 "nbformat": 4,
 "nbformat_minor": 2
}
