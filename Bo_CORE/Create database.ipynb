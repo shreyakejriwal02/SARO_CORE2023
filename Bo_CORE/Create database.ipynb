{
 "cells": [
  {
   "cell_type": "code",
   "execution_count": 1,
   "metadata": {},
   "outputs": [
    {
     "ename": "SyntaxError",
     "evalue": "invalid syntax (138480903.py, line 11)",
     "output_type": "error",
     "traceback": [
      "\u001b[1;36m  Cell \u001b[1;32mIn[1], line 11\u001b[1;36m\u001b[0m\n\u001b[1;33m    def __init__(self, member_id, x_coordinate, y_coordinate, skill_type, skill level, allocation_type, associated_equipment): super().__init__(team_id, cumulative_skill_level) # call parent class\u001b[0m\n\u001b[1;37m                                                                                ^\u001b[0m\n\u001b[1;31mSyntaxError\u001b[0m\u001b[1;31m:\u001b[0m invalid syntax\n"
     ]
    }
   ],
   "source": [
    "### Creating a rescue team database\n",
    "\n",
    "# define class for each rescue team:\n",
    "class Heavy_rescue_team:\n",
    "    def __init__(self, team_id, cummulative_skill_level):\n",
    "        self.team_id = team_id\n",
    "        self.cummulative_skill_level = cummulative_skill_level\n",
    "        \n",
    "# define subclass for different people in each team:\n",
    "class Member(Heavy_rescue_team):\n",
    "    def __init__(self, member_id, x_coordinate, y_coordinate, skill_type, skill level, allocation_type, associated_equipment): super().__init__(team_id, cumulative_skill_level) # call parent class\n",
    "        self.member_id = member_id\n",
    "        self.x_coordinate x_coordinate\n",
    "        self.y_coordinate y coordinate\n",
    "        self.skill_type skill_type # skill that it can perform (structure, rope, etc)\n",
    "        self.skill_level = skill_level # Level 1, 2, 3 [is time to complete a task associated with levels?]\n",
    "        self.allocation_type = allocation_type # full (stay for complete op) or partial (can move to other site mid op) self.associated_equipment = associated_equipment\n",
    "\n",
    "#  Create entries to create types of teams\n",
    "rescue_technician_1 Heavy_rescue_team.Member(...) rescue_technician_2 = Medium_rescue_team.Member(...)\n",
    "\n",
    "\"\"\"\n",
    "Output: Database of heavy, medium and light team with people of different attributes \n",
    "\n",
    "\"\"\""
   ]
  }
 ],
 "metadata": {
  "kernelspec": {
   "display_name": ".venv",
   "language": "python",
   "name": "python3"
  },
  "language_info": {
   "codemirror_mode": {
    "name": "ipython",
    "version": 3
   },
   "file_extension": ".py",
   "mimetype": "text/x-python",
   "name": "python",
   "nbconvert_exporter": "python",
   "pygments_lexer": "ipython3",
   "version": "3.9.13"
  }
 },
 "nbformat": 4,
 "nbformat_minor": 2
}
