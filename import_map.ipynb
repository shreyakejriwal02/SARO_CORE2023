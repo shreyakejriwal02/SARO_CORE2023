{
 "cells": [
  {
   "cell_type": "code",
   "execution_count": 3,
   "metadata": {},
   "outputs": [],
   "source": [
    "import osmnx as ox\n",
    "import matplotlib.pyplot as plt\n",
    "import geopandas as gpd\n",
    "import pandas as pd\n",
    "from random import choices\n",
    "\n",
    "# define class for building\n",
    "class Building:\n",
    "    def __init__(self, id, geometry, cen_pt, bld_type):\n",
    "        self.id = id\n",
    "        self.geometry = geometry\n",
    "        self.cen_pt = cen_pt\n",
    "        self.bld_type = bld_type\n",
    "\n",
    "# importing osm location\n",
    "address = \"Çimentepe Mahallesi\"\n",
    "buildings = ox.features.features_from_address(address, tags={'building': True}, dist=350)\n",
    "\n",
    "# creating object for each building\n",
    "bld_lst = []\n",
    "for i in buildings.index:\n",
    "    id = i[1]\n",
    "    geo = buildings.loc[i, 'geometry']\n",
    "    cen_pt = geo.centroid\n",
    "    bld_type = buildings.loc[i, 'building']\n",
    "\n",
    "    bld = Building(id, geo, cen_pt, bld_type)\n",
    "    bld_lst.append(bld)"
   ]
  },
  {
   "cell_type": "code",
   "execution_count": 5,
   "metadata": {},
   "outputs": [
    {
     "ename": "TypeError",
     "evalue": "__init__() missing 1 required positional argument: 'name'",
     "output_type": "error",
     "traceback": [
      "\u001b[1;31m---------------------------------------------------------------------------\u001b[0m",
      "\u001b[1;31mTypeError\u001b[0m                                 Traceback (most recent call last)",
      "\u001b[1;32m~\\AppData\\Local\\Temp\\ipykernel_24960\\2314627777.py\u001b[0m in \u001b[0;36m<module>\u001b[1;34m\u001b[0m\n\u001b[0;32m     42\u001b[0m         \u001b[0mpolygon\u001b[0m \u001b[1;33m=\u001b[0m \u001b[0mPolygon\u001b[0m\u001b[1;33m(\u001b[0m\u001b[1;33m[\u001b[0m\u001b[1;33m(\u001b[0m\u001b[0mx\u001b[0m\u001b[1;33m,\u001b[0m\u001b[0my\u001b[0m\u001b[1;33m)\u001b[0m\u001b[1;33m,\u001b[0m \u001b[1;33m(\u001b[0m\u001b[0mx\u001b[0m\u001b[1;33m+\u001b[0m\u001b[0mwidth\u001b[0m\u001b[1;33m,\u001b[0m \u001b[0my\u001b[0m\u001b[1;33m)\u001b[0m\u001b[1;33m,\u001b[0m \u001b[1;33m(\u001b[0m\u001b[0mx\u001b[0m\u001b[1;33m+\u001b[0m\u001b[0mwidth\u001b[0m\u001b[1;33m,\u001b[0m \u001b[0my\u001b[0m\u001b[1;33m+\u001b[0m\u001b[0mheight\u001b[0m\u001b[1;33m)\u001b[0m\u001b[1;33m,\u001b[0m \u001b[1;33m(\u001b[0m\u001b[0mx\u001b[0m\u001b[1;33m,\u001b[0m \u001b[0my\u001b[0m\u001b[1;33m+\u001b[0m\u001b[0mheight\u001b[0m\u001b[1;33m)\u001b[0m\u001b[1;33m]\u001b[0m\u001b[1;33m)\u001b[0m\u001b[1;33m\u001b[0m\u001b[1;33m\u001b[0m\u001b[0m\n\u001b[0;32m     43\u001b[0m         \u001b[1;31m# polygons.append(polygon)\u001b[0m\u001b[1;33m\u001b[0m\u001b[1;33m\u001b[0m\u001b[0m\n\u001b[1;32m---> 44\u001b[1;33m         \u001b[0msub_area\u001b[0m \u001b[1;33m=\u001b[0m \u001b[0mSub_Area\u001b[0m\u001b[1;33m(\u001b[0m\u001b[0mj\u001b[0m\u001b[1;33m)\u001b[0m\u001b[1;33m\u001b[0m\u001b[1;33m\u001b[0m\u001b[0m\n\u001b[0m\u001b[0;32m     45\u001b[0m         \u001b[0mj\u001b[0m \u001b[1;33m+=\u001b[0m \u001b[1;36m1\u001b[0m\u001b[1;33m\u001b[0m\u001b[1;33m\u001b[0m\u001b[0m\n\u001b[0;32m     46\u001b[0m         \u001b[0max\u001b[0m\u001b[1;33m.\u001b[0m\u001b[0mplot\u001b[0m\u001b[1;33m(\u001b[0m\u001b[1;33m*\u001b[0m\u001b[0mpolygon\u001b[0m\u001b[1;33m.\u001b[0m\u001b[0mexterior\u001b[0m\u001b[1;33m.\u001b[0m\u001b[0mxy\u001b[0m\u001b[1;33m)\u001b[0m\u001b[1;33m\u001b[0m\u001b[1;33m\u001b[0m\u001b[0m\n",
      "\u001b[1;31mTypeError\u001b[0m: __init__() missing 1 required positional argument: 'name'"
     ]
    },
    {
     "data": {
      "image/png": "[encoded data removed]",
      "text/plain": [
       "<Figure size 640x480 with 1 Axes>"
      ]
     },
     "metadata": {},
     "output_type": "display_data"
    }
   ],
   "source": [
    "import numpy as np\n",
    "from shapely.geometry import Polygon\n",
    "from matplotlib.patches import Polygon as mpl_polygon\n",
    "from trial_1 import Sub_Area\n",
    "\n",
    "cen_pts = gpd.GeoDataFrame({'points': [o.cen_pt for o in bld_lst]}, geometry = 'points')\n",
    "\n",
    "# set bounds of graph to the bounds of center points\n",
    "xmin, ymin, xmax, ymax = cen_pts.total_bounds\n",
    "x_range = xmax - xmin\n",
    "y_range = ymax - ymin\n",
    "\n",
    "# set stepsize\n",
    "width = x_range / 10\n",
    "height = y_range / 10\n",
    "\n",
    "# create cols and rows based on bounds and stepsize\n",
    "cols = list(np.arange(xmin, xmax + width, width))\n",
    "rows = list(np.arange(ymin, ymax + height, height))\n",
    "\n",
    "# create empty graph\n",
    "fig, ax = plt.subplots()\n",
    "\n",
    "sorted_blds = sorted(bld_lst, key=lambda x: (x.cen_pt.x, x.cen_pt.y))\n",
    "# print([[o.cen_pt.x, o.cen_pt.y] for o in sorted_blds])\n",
    "\n",
    "# create cells and plot to graph, add buildings to subarea classes\n",
    "# polygons = []\n",
    "sub_areas = []\n",
    "i = 0\n",
    "j = 0\n",
    "for x in cols[:-1]:\n",
    "    # while the buildings have x values in the range of this column, add them to a list\n",
    "    filt_blds = []\n",
    "    while (sorted_blds[i].cen_pt.x >= x) and (sorted_blds[i].cen_pt.x < (x+width)): \n",
    "        filt_blds.append(sorted_blds[i])\n",
    "        filt_blds = sorted(filt_blds, key=lambda x: (x.cen_pt.y))\n",
    "        i += 1\n",
    "    # print([index for index, value in enumerate(filt_blds)])\n",
    "    for y in rows[:-1]:\n",
    "        # create a cell, sub_area object, and associate the cell with the object\n",
    "        polygon = Polygon([(x,y), (x+width, y), (x+width, y+height), (x, y+height)])\n",
    "        # polygons.append(polygon)\n",
    "        sub_area = Sub_Area(j)\n",
    "        j += 1\n",
    "        ax.plot(*polygon.exterior.xy)\n",
    "        sub_area_blds = []\n",
    "        # while the buildings in that column have y values in the range of this row, add them to the cell object \n",
    "        while (len(filt_blds) > 0) and (filt_blds[0].cen_pt.y >= y) and (filt_blds[0].cen_pt.y < (y+height)):\n",
    "            sub_area.add_building(filt_blds.pop(0))\n",
    "            # sub_area_blds.append(filt_blds.pop(0))\n",
    "        sub_areas.append(sub_area)\n",
    "\n",
    "print([[o.id, o.buildings] for o in sub_areas])\n",
    "\n",
    "\n",
    "\n",
    "\n",
    "# this is plotting the geometry of the buildings\n",
    "# save each geometry attribute in a list\n",
    "geos = [o.geometry for o in bld_lst]\n",
    "\n",
    "# choices of different colours with corresponding weights\n",
    "population = ['green', 'blue', 'yellow', 'orange', 'red']\n",
    "weights = [0.45, 0.05, 0.15, 0.12, 0.23]\n",
    "\n",
    "# for every geometry choose a colour, fill the geometry and plot to graph\n",
    "for g in geos:\n",
    "    c = choices(population, weights)[0]\n",
    "    x, y = g.exterior.xy\n",
    "    ax.fill(x, y, color = c)\n",
    "\n",
    "# Display the plot\n",
    "plt.show()"
   ]
  },
  {
   "cell_type": "code",
   "execution_count": 46,
   "metadata": {},
   "outputs": [
    {
     "name": "stdout",
     "output_type": "stream",
     "text": [
      "15\n",
      "9\n",
      "135\n",
      "112\n"
     ]
    }
   ],
   "source": [
    "import numpy as np\n",
    "from shapely.geometry import Polygon\n",
    "from matplotlib.patches import Polygon as mpl_polygon\n",
    "\n",
    "cen_pts = gpd.GeoDataFrame({'points': [o.cen_pt for o in bld_lst]}, geometry = 'points')\n",
    "\n",
    "xmin, ymin, xmax, ymax = cen_pts.total_bounds\n",
    "x_range = xmax - xmin\n",
    "y_range = ymax - ymin\n",
    "\n",
    "length = x_range / 10\n",
    "width = y_range / 10\n",
    "\n",
    "cols = list(np.arange(xmin, xmax + width, width))\n",
    "rows = list(np.arange(ymin, ymax + length, length))\n",
    "\n",
    "print(len(cols))\n",
    "print(len(rows))\n",
    "print(len(cols) * len(rows))\n",
    "# create cells and plot to graph\n",
    "# fig, ax = plt.subplots()\n",
    "polygons = []\n",
    "for x in cols[:-1]:\n",
    "    for y in rows[:-1]:\n",
    "        polygon = Polygon([(x,y), (x+wide, y), (x+wide, y+length), (x, y+length)])\n",
    "        polygons.append(polygon)\n",
    "        # mpl_poly = mpl_polygon(list(polygon.exterior.coords), edgecolor='r', facecolor='none')\n",
    "        # ax.add_patch(mpl_poly)\n",
    "        ax.plot(*polygon.exterior.xy)\n",
    "print(len(polygons))        \n",
    "# plt.show()"
   ]
  },
  {
   "cell_type": "code",
   "execution_count": 28,
   "metadata": {},
   "outputs": [
    {
     "name": "stdout",
     "output_type": "stream",
     "text": [
      " * Serving Flask app \"__main__\" (lazy loading)\n"
     ]
    },
    {
     "name": "stdout",
     "output_type": "stream",
     "text": [
      " * Environment: production\n",
      "\u001b[31m   WARNING: This is a development server. Do not use it in a production deployment.\u001b[0m\n",
      "\u001b[2m   Use a production WSGI server instead.\u001b[0m\n",
      " * Debug mode: off\n"
     ]
    },
    {
     "name": "stderr",
     "output_type": "stream",
     "text": [
      "[INFO]  * Running on http://127.0.0.1:5000/ (Press CTRL+C to quit)\n",
      "[INFO] 127.0.0.1 - - [12/Oct/2023 14:08:47] \"GET /imft HTTP/1.1\" 200 -\n",
      "[INFO] 127.0.0.1 - - [12/Oct/2023 14:08:47] \"GET /imft HTTP/1.1\" 200 -\n",
      "sys:1: ResourceWarning: unclosed socket <zmq.Socket(zmq.PUSH) at 0x1ddd0a31040>\n",
      "ResourceWarning: Enable tracemalloc to get the object allocation traceback\n",
      "sys:1: ResourceWarning: unclosed socket <zmq.Socket(zmq.PUSH) at 0x1ddd0a317c0>\n",
      "ResourceWarning: Enable tracemalloc to get the object allocation traceback\n",
      "[INFO] Solving using legacy API: <HopsComponent /imft [ -> ImportFootprints -> Footprints] >\n",
      "[INFO] 127.0.0.1 - - [12/Oct/2023 14:08:47] \"POST /solve HTTP/1.1\" 200 -\n"
     ]
    }
   ],
   "source": [
    "\"\"\"Hops flask middleware example\"\"\"\n",
    "import sys\n",
    "import os\n",
    "from flask import Flask\n",
    "from PIL import Image\n",
    "import rhino3dm as rs\n",
    "\n",
    "# load ghhops-server-py source from this directory\n",
    "import ghhops_server as hs\n",
    "\n",
    "# register hops app as middleware\n",
    "app = Flask(__name__)\n",
    "hops: hs.HopsFlask = hs.Hops(app)\n",
    "\n",
    "# flask app can be used for other stuff directly\n",
    "@app.route(\"/help\")\n",
    "def help():\n",
    "    return \"Welcome to Grashopper Hops for CPython!\"\n",
    "\n",
    "\n",
    "@app.route(\"/update\", methods=[\"POST\"])\n",
    "def update():\n",
    "    return \"Update example!\"\n",
    "\n",
    "# component\n",
    "@hops.component(\n",
    "    \"/imft\",\n",
    "    name=\"ImportFootprints\",\n",
    "    nickname=\"IF\",\n",
    "    description=\"Import Building Footprints\",\n",
    "    outputs=[hs.HopsPoint(\"Footprints\", \"F\", \"List of footprints imported\")]\n",
    ")\n",
    "\n",
    "def import_footprints():\n",
    "    c_pts = []\n",
    "    for geo in geos:\n",
    "        points = []\n",
    "        for point in geo.exterior.coords:\n",
    "            x, y = point\n",
    "            rh_point = rs.Point3d(x, y, 0)\n",
    "            points.append(rh_point)\n",
    "        c_pts.append(points)\n",
    "    polygon = rs.Curve.CreateControlPointCurve(c_pts)\n",
    "    return hs.HopsCurve(polygon)\n",
    "\n",
    "if __name__ == \"__main__\":\n",
    "    app.run()\n"
   ]
  }
 ],
 "metadata": {
  "kernelspec": {
   "display_name": "base",
   "language": "python",
   "name": "python3"
  },
  "language_info": {
   "codemirror_mode": {
    "name": "ipython",
    "version": 3
   },
   "file_extension": ".py",
   "mimetype": "text/x-python",
   "name": "python",
   "nbconvert_exporter": "python",
   "pygments_lexer": "ipython3",
   "version": "3.9.13"
  },
  "orig_nbformat": 4,
  "vscode": {
   "interpreter": {
    "hash": "766dbc7c03f6cfc043cc426518fbb0038d21855af8c6c0a0ff7ee85efd003f38"
   }
  }
 },
 "nbformat": 4,
 "nbformat_minor": 2
}
